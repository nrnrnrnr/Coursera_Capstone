{
 "cells": [
  {
   "cell_type": "markdown",
   "metadata": {
    "collapsed": true
   },
   "source": [
    "# <center>Predicting the Best Places in London to Open a New Restaurant</center>\n",
    "### <center>Nikita Roy</center>\n",
    "### <center>June 17, 2019</center>"
   ]
  },
  {
   "cell_type": "markdown",
   "metadata": {},
   "source": [
    "## 1. Introduction/Business Problem\n",
    "### 1.1 Background\n",
    "London, England is the largest city and capital of the United Kingdom, which means it is a cultural and political epicenter. A large variety of people and cultures make up London. It has a rich history with many cultural landmarks and museums as well as many modern businesses, vendors, and opportunities for growth and expansion. Therefore, opening a new business in London can result in major profit, if all factors are considered well.\n",
    "\n",
    "\n",
    "### 1.2 Business Problem\n",
    "A businessperson wants to open a brand new restaurant in London. In order to do so, they have to consider many factors that describe London, including its demography, venues and corresponding locations, cuisines, potential competitors, the current status of the market, and many others.\n",
    "\n",
    "As of now, the most important decision the businessperson needs to make is regarding the location and the cuisine of the restaurant. As such, it is important to extract location information about London and its venues in order to consider the factors mentioned earlier.\n",
    "\n",
    "### 1.3 Interest\n",
    "The businessperson would need to have this analysis performed in order to make preliminary decisions about the restaurant, such as finding an exact location and cuisine. These decisions are important in order to determine the restaurant's target audience (potential consumers), costs of supplies and ingredients, and the necessary staff.\n",
    "\n",
    "Other restaurateurs would definitely be interested in this information to see where in London would be the best places to open a restaurant or even to see how different factors would play a role in making these decisions. "
   ]
  },
  {
   "cell_type": "markdown",
   "metadata": {},
   "source": [
    "## 2. Data Information\n",
    "### 2.1 Data Sources\n",
    "London district information along with postcode information can be found here : https://en.wikipedia.org/wiki/London_postal_district. In addition, London's demographic information can be found here: https://en.wikipedia.org/wiki/Demography_of_London. Cultural information can be found here: https://en.wikipedia.org/wiki/Culture_of_London. Economic information can be found here: https://en.wikipedia.org/wiki/Economy_of_London. As for venue and population information, that data can be extracted and leveraged using the Foursquare API. Using all of these datasets together can result in a potential location and cuisine."
   ]
  },
  {
   "cell_type": "code",
   "execution_count": null,
   "metadata": {},
   "outputs": [],
   "source": []
  }
 ],
 "metadata": {
  "kernelspec": {
   "display_name": "Python 3.5",
   "language": "python",
   "name": "python3"
  },
  "language_info": {
   "codemirror_mode": {
    "name": "ipython",
    "version": 3
   },
   "file_extension": ".py",
   "mimetype": "text/x-python",
   "name": "python",
   "nbconvert_exporter": "python",
   "pygments_lexer": "ipython3",
   "version": "3.5.5"
  }
 },
 "nbformat": 4,
 "nbformat_minor": 1
}
